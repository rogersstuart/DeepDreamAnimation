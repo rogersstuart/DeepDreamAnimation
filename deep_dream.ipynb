{
  "nbformat": 4,
  "nbformat_minor": 0,
  "metadata": {
    "colab": {
      "name": "01-learning-lenet.ipynb",
      "provenance": [],
      "private_outputs": true,
      "collapsed_sections": [],
      "toc_visible": true
    },
    "kernelspec": {
      "name": "python3",
      "display_name": "Python 3"
    },
    "accelerator": "GPU"
  },
  "cells": [
    {
      "cell_type": "code",
      "metadata": {
        "id": "mhCrn1xmwYdR",
        "colab_type": "code",
        "colab": {}
      },
      "source": [
        "!git clone https://github.com/rogersstuart/DeepDreamAnimation.git\n",
        "\n",
        "from google.colab import drive\n",
        "drive.mount('/content/drive')"
      ],
      "execution_count": 0,
      "outputs": []
    },
    {
      "cell_type": "markdown",
      "metadata": {
        "id": "OJAp6ubI_bU5",
        "colab_type": "text"
      },
      "source": [
        "## Caffe Prerpare"
      ]
    },
    {
      "cell_type": "code",
      "metadata": {
        "colab_type": "code",
        "id": "yVWA8fiD4QZn",
        "colab": {}
      },
      "source": [
        "!nvidia-smi\n",
        "!nvcc -V"
      ],
      "execution_count": 0,
      "outputs": []
    },
    {
      "cell_type": "markdown",
      "metadata": {
        "id": "60a_i7Y34na9",
        "colab_type": "text"
      },
      "source": [
        "if the output is\n",
        ">**Cuda compilation tools, release 10.0, V10.0.130**\n",
        "\n",
        "then we needn't run below code.\n"
      ]
    },
    {
      "cell_type": "code",
      "metadata": {
        "id": "fm_hPYbzN5q2",
        "colab_type": "code",
        "colab": {}
      },
      "source": [
        "!apt  --purge remove \"cublas*\" \"cuda*\"\n",
        "!apt  --purge remove \"nvidia*\" \n",
        "!wget https://developer.download.nvidia.com/compute/cuda/repos/ubuntu1804/x86_64/cuda-repo-ubuntu1804_10.0.130-1_amd64.deb\n",
        "!apt-key adv --fetch-keys https://developer.download.nvidia.com/compute/cuda/repos/ubuntu1804/x86_64/7fa2af80.pub && sudo apt update\n",
        "!dpkg -i cuda-repo-ubuntu1804_10.0.130-1_amd64.deb\n",
        "#!apt update\n",
        "!apt install -y cuda=10.0.130-1\n",
        "\n",
        "# Install CuDNN 7 and NCCL 2\n",
        "!wget https://developer.download.nvidia.com/compute/machine-learning/repos/ubuntu1804/x86_64/nvidia-machine-learning-repo-ubuntu1804_1.0.0-1_amd64.deb\n",
        "!dpkg -i nvidia-machine-learning-repo-ubuntu1804_1.0.0-1_amd64.deb\n",
        "\n",
        "#!apt update\n",
        "!apt install -y libcudnn7 libcudnn7-dev libnccl2 libc-ares-dev\n",
        "\n",
        "!apt autoremove\n",
        "#!apt upgrade\n",
        "\n",
        "# Link libraries to standard locations\n",
        "!mkdir -p /usr/local/cuda-10.0/nccl/lib\n",
        "!ln -s /usr/lib/x86_64-linux-gnu/libnccl.so.2 /usr/local/cuda/nccl/lib/\n",
        "!ln -s /usr/lib/x86_64-linux-gnu/libcudnn.so.7 /usr/local/cuda-10.0/lib64/"
      ],
      "execution_count": 0,
      "outputs": []
    },
    {
      "cell_type": "markdown",
      "metadata": {
        "id": "4TctRR5R5Avj",
        "colab_type": "text"
      },
      "source": [
        "get GPU information"
      ]
    },
    {
      "cell_type": "code",
      "metadata": {
        "id": "3-OcGlGnKJlb",
        "colab_type": "code",
        "colab": {}
      },
      "source": [
        "from tensorflow.python.client import device_lib\n",
        "print(device_lib.list_local_devices())"
      ],
      "execution_count": 0,
      "outputs": []
    },
    {
      "cell_type": "markdown",
      "metadata": {
        "id": "I85tzHSL-pIJ",
        "colab_type": "text"
      },
      "source": [
        "### Build Caffe"
      ]
    },
    {
      "cell_type": "code",
      "metadata": {
        "id": "2RuvS1vCyz9p",
        "colab_type": "code",
        "colab": {}
      },
      "source": [
        " !apt install python3-opencv\n",
        " !apt-get install libopenblas-dev # OpenBLAS\n",
        " # Other dependencies\n",
        "!apt-get install libprotobuf-dev libleveldb-dev libsnappy-dev libopencv-dev libhdf5-serial-dev protobuf-compiler\n",
        "!apt-get install — no-install-recommends libboost-all-dev\n",
        "!apt-get install libgflags-dev libgoogle-glog-dev liblmdb-dev\n",
        "!pip3 install protobuf\n",
        "!apt-get install the python3-dev"
      ],
      "execution_count": 0,
      "outputs": []
    },
    {
      "cell_type": "markdown",
      "metadata": {
        "id": "ceDvP653_7Hx",
        "colab_type": "text"
      },
      "source": [
        "#### clone caffe project\n",
        ">rectified version"
      ]
    },
    {
      "cell_type": "code",
      "metadata": {
        "id": "-lSEI-ECx-ro",
        "colab_type": "code",
        "colab": {}
      },
      "source": [
        "import os\n",
        "os.chdir('/content')\n",
        "!rm -rf caffe\n",
        "!git clone https://github.com/TimeIsTheChoice/caffe.git\n",
        "!cd caffe"
      ],
      "execution_count": 0,
      "outputs": []
    },
    {
      "cell_type": "markdown",
      "metadata": {
        "id": "VBGBrCcnAA9O",
        "colab_type": "text"
      },
      "source": [
        "#### build caffe"
      ]
    },
    {
      "cell_type": "markdown",
      "metadata": {
        "id": "HWPTR2bm50xH",
        "colab_type": "text"
      },
      "source": [
        ">build pycaffe"
      ]
    },
    {
      "cell_type": "code",
      "metadata": {
        "id": "mQoB5ImrzjXJ",
        "colab_type": "code",
        "colab": {}
      },
      "source": [
        "import os\n",
        "os.chdir('/content/caffe')\n",
        "!make all -j$(nproc --all) # 4 represents number of CPU Cores\n",
        "!make pycaffe -j$(nproc --all) # 4 represents number of CPU Cores"
      ],
      "execution_count": 0,
      "outputs": []
    },
    {
      "cell_type": "code",
      "metadata": {
        "id": "h_cJ59jR0rM5",
        "colab_type": "code",
        "colab": {}
      },
      "source": [
        "!export PYTHONPATH=~/caffe/python:$PYTHONPATH"
      ],
      "execution_count": 0,
      "outputs": []
    },
    {
      "cell_type": "markdown",
      "metadata": {
        "id": "frln1dQSALUv",
        "colab_type": "text"
      },
      "source": [
        "#### import caffe"
      ]
    },
    {
      "cell_type": "code",
      "metadata": {
        "id": "SeKYZZ9G2jpn",
        "colab_type": "code",
        "colab": {}
      },
      "source": [
        "caffe_root = '/content/caffe/'  # this file should be run from {caffe_root}/examples (otherwise change this line)\n",
        "\n",
        "import sys\n",
        "sys.path.insert(0, caffe_root + 'python')"
      ],
      "execution_count": 0,
      "outputs": []
    },
    {
      "cell_type": "markdown",
      "metadata": {
        "id": "QeHWa4l-I15t",
        "colab_type": "text"
      },
      "source": [
        "### GPU environment information"
      ]
    },
    {
      "cell_type": "markdown",
      "metadata": {
        "id": "q4I_K8ynUR7f",
        "colab_type": "text"
      },
      "source": [
        "\n",
        "\n",
        "> make sure execute under gpu model\n",
        "\n"
      ]
    },
    {
      "cell_type": "code",
      "metadata": {
        "id": "4xF1MFNeG8UX",
        "colab_type": "code",
        "colab": {}
      },
      "source": [
        "#' ' means CPU whereas '/device:G:0' means GPU\n",
        "import tensorflow as tf\n",
        "tf.test.gpu_device_name()"
      ],
      "execution_count": 0,
      "outputs": []
    },
    {
      "cell_type": "markdown",
      "metadata": {
        "id": "_E-dpiDdI6CB",
        "colab_type": "text"
      },
      "source": [
        ">check GPU memory utilization"
      ]
    },
    {
      "cell_type": "code",
      "metadata": {
        "id": "opjMCboZIN1L",
        "colab_type": "code",
        "colab": {}
      },
      "source": [
        "# memory footprint support libraries/code\n",
        "!ln -sf /opt/bin/nvidia-smi /usr/bin/nvidia-smi\n",
        "!pip install gputil\n",
        "!pip install psutil\n",
        "!pip install humanize\n",
        "import psutil\n",
        "import humanize\n",
        "import os\n",
        "import GPUtil as GPU\n",
        "GPUs = GPU.getGPUs()\n",
        "# XXX: only one GPU on Colab and isn’t guaranteed\n",
        "gpu = GPUs[0]\n",
        "def printm():\n",
        " process = psutil.Process(os.getpid())\n",
        " print(\"Gen RAM Free: \" + humanize.naturalsize( psutil.virtual_memory().available ), \" | Proc size: \" + humanize.naturalsize( process.memory_info().rss))\n",
        " print(\"GPU RAM Free: {0:.0f}MB | Used: {1:.0f}MB | Util {2:3.0f}% | Total {3:.0f}MB\".format(gpu.memoryFree, gpu.memoryUsed, gpu.memoryUtil*100, gpu.memoryTotal))\n",
        "printm() "
      ],
      "execution_count": 0,
      "outputs": []
    },
    {
      "cell_type": "code",
      "metadata": {
        "id": "uMeK-HtDHfaz",
        "colab_type": "code",
        "colab": {}
      },
      "source": [
        "!rm -rf /content/myvideo\n",
        "!mkdir /content/myvideo\n",
        "!python /content/DeepDreamAnimation/dreamer.py --input \"/content/drive/My\\ Drive/rec_2.mp4\" --output /content/myvideo --extract 1"
      ],
      "execution_count": 0,
      "outputs": []
    },
    {
      "cell_type": "code",
      "metadata": {
        "id": "3h2UzMFCaphL",
        "colab_type": "code",
        "colab": {}
      },
      "source": [
        "!python /content/caffe/scripts/download_model_binary.py /content/caffe/models/bvlc_googlenet"
      ],
      "execution_count": 0,
      "outputs": []
    },
    {
      "cell_type": "code",
      "metadata": {
        "id": "5pN3vDAVNaXj",
        "colab_type": "code",
        "colab": {}
      },
      "source": [
        "\n",
        "#!python /content/dreamer/dreamer.py --input /content/myvideo --output /content/myvideo/frames\n",
        "!python /content/DeepDreamAnimation/dreamer.py --input /content/myvideo --output /content/drive/My\\ Drive/dream_out/frames_25 --octaves 4 --octavescale 2 --iterations 20 --jitter 1 --zoom 1 --stepsize 1 --blend 0 --flow 1 --layers inception_5a/output --gpu 1"
      ],
      "execution_count": 0,
      "outputs": []
    },
    {
      "cell_type": "code",
      "metadata": {
        "id": "dNv9kXXAql74",
        "colab_type": "code",
        "colab": {}
      },
      "source": [
        "!rm -rf /content/myvideo/frames "
      ],
      "execution_count": 0,
      "outputs": []
    }
  ]
}
